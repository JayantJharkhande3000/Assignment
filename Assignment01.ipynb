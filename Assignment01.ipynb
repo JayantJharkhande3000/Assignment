{
  "nbformat": 4,
  "nbformat_minor": 0,
  "metadata": {
    "colab": {
      "name": "Assignment01.ipynb",
      "provenance": [],
      "collapsed_sections": [],
      "include_colab_link": true
    },
    "kernelspec": {
      "name": "python3",
      "display_name": "Python 3"
    },
    "language_info": {
      "name": "python"
    }
  },
  "cells": [
    {
      "cell_type": "markdown",
      "metadata": {
        "id": "view-in-github",
        "colab_type": "text"
      },
      "source": [
        "<a href=\"https://colab.research.google.com/github/JayantJharkhande3000/Bias-and-Regression/blob/master/Assignment01.ipynb\" target=\"_parent\"><img src=\"https://colab.research.google.com/assets/colab-badge.svg\" alt=\"Open In Colab\"/></a>"
      ]
    },
    {
      "cell_type": "markdown",
      "source": [
        "# Install, Import and Login"
      ],
      "metadata": {
        "id": "opVz9AVbyU5Q"
      }
    },
    {
      "cell_type": "code",
      "execution_count": null,
      "metadata": {
        "id": "DrOnScOZvR4S"
      },
      "outputs": [],
      "source": [
        "import tensorflow as tf\n",
        "import numpy as np\n",
        "import pandas as pd\n",
        "import matplotlib.pyplot as plt\n",
        "import random\n",
        "from sklearn.preprocessing import OneHotEncoder\n"
      ]
    },
    {
      "cell_type": "markdown",
      "source": [
        "# Download and prepare the Dataset."
      ],
      "metadata": {
        "id": "KJWf4bKSzDLE"
      }
    },
    {
      "cell_type": "code",
      "source": [
        "image_data = tf.keras.datasets.fashion_mnist"
      ],
      "metadata": {
        "id": "jWE-0BP7vafm"
      },
      "execution_count": null,
      "outputs": []
    },
    {
      "cell_type": "code",
      "source": [
        "(train_images, train_labels),(test_images, test_labels) = image_data.load_data()"
      ],
      "metadata": {
        "id": "Ci52raZqwF9P",
        "colab": {
          "base_uri": "https://localhost:8080/"
        },
        "outputId": "80b070af-3efd-486a-81eb-022a50f8864f"
      },
      "execution_count": null,
      "outputs": [
        {
          "output_type": "stream",
          "name": "stdout",
          "text": [
            "Downloading data from https://storage.googleapis.com/tensorflow/tf-keras-datasets/train-labels-idx1-ubyte.gz\n",
            "32768/29515 [=================================] - 0s 0us/step\n",
            "40960/29515 [=========================================] - 0s 0us/step\n",
            "Downloading data from https://storage.googleapis.com/tensorflow/tf-keras-datasets/train-images-idx3-ubyte.gz\n",
            "26427392/26421880 [==============================] - 0s 0us/step\n",
            "26435584/26421880 [==============================] - 0s 0us/step\n",
            "Downloading data from https://storage.googleapis.com/tensorflow/tf-keras-datasets/t10k-labels-idx1-ubyte.gz\n",
            "16384/5148 [===============================================================================================] - 0s 0us/step\n",
            "Downloading data from https://storage.googleapis.com/tensorflow/tf-keras-datasets/t10k-images-idx3-ubyte.gz\n",
            "4423680/4422102 [==============================] - 0s 0us/step\n",
            "4431872/4422102 [==============================] - 0s 0us/step\n"
          ]
        }
      ]
    },
    {
      "cell_type": "markdown",
      "source": [
        "# Converting image data of X train and Test to array"
      ],
      "metadata": {
        "id": "jUOe4MLTwW6P"
      }
    },
    {
      "cell_type": "code",
      "source": [
        "#Each image has Intensity from 0 to 255\n",
        "train_images = train_images/255 \n",
        "# here we normalize the training data\n",
        "test_images = test_images/255\n",
        "# here we normalize the test data\n",
        "#we must change the shape of the images to 1d array(28*28)\n",
        "#for multipication 1*784\n",
        "num_pixels = 784\n",
        "train_images = train_images.reshape(train_images.shape[0],num_pixels)\n",
        "test_images = test_images.reshape(test_images.shape[0],num_pixels)\n",
        "X_test = np.array(test_images.T)\n",
        "X_train = np.array(train_images.T)\n",
        "print(\"X test\",X_test.shape)\n",
        "print(\"X train\",X_train.shape)"
      ],
      "metadata": {
        "id": "PWQRZX-qwJgK",
        "colab": {
          "base_uri": "https://localhost:8080/"
        },
        "outputId": "d2a18e9d-a1a1-4a25-8ca8-a16ffa2c8579"
      },
      "execution_count": null,
      "outputs": [
        {
          "output_type": "stream",
          "name": "stdout",
          "text": [
            "X test (784, 10000)\n",
            "X train (784, 60000)\n"
          ]
        }
      ]
    },
    {
      "cell_type": "markdown",
      "source": [
        "# Converting categorical data of Y train and Test to one hot encoding. "
      ],
      "metadata": {
        "id": "_OqiyfwEwhIV"
      }
    },
    {
      "cell_type": "markdown",
      "source": [
        "Train labels onehot encoding"
      ],
      "metadata": {
        "id": "3hbh6jZewkdB"
      }
    },
    {
      "cell_type": "code",
      "source": [
        "one_hot_encoder = OneHotEncoder(sparse = False)\n",
        "encoded = train_labels.reshape(len(train_labels),1)\n",
        "# converting individual array so it create a shape of (42000 , 1)\n",
        "# 42000 individual array\n",
        "trainlabels = one_hot_encoder.fit_transform(encoded)\n",
        "# fit transform converts categorical labels to one hot encoded vector \n",
        "Y_train = trainlabels.astype(np.uint8)\n",
        "# converting the labels with specific data type\n",
        "Y_train = np.array(Y_train.T)\n",
        "print(\"Y_train \",Y_train.shape)"
      ],
      "metadata": {
        "id": "-w4D5QHiwYSr",
        "colab": {
          "base_uri": "https://localhost:8080/"
        },
        "outputId": "f4ab0e23-0c52-4c37-922a-39c13a00a684"
      },
      "execution_count": null,
      "outputs": [
        {
          "output_type": "stream",
          "name": "stdout",
          "text": [
            "Y_train  (10, 60000)\n"
          ]
        }
      ]
    },
    {
      "cell_type": "markdown",
      "source": [
        "Test labels onehot encoding"
      ],
      "metadata": {
        "id": "BYK0sIgOwpDq"
      }
    },
    {
      "cell_type": "code",
      "source": [
        "one_hot_encoder = OneHotEncoder(sparse = False)\n",
        "encoded = test_labels.reshape(len(test_labels),1)\n",
        "# converting individual array so it create a shape of (42000 , 1)\n",
        "# 42000 individual array\n",
        "testlabels = one_hot_encoder.fit_transform(encoded)\n",
        "# fit transform converts categorical labels to one hot encoded vector \n",
        "Y_test = testlabels.astype(np.uint8)\n",
        "# converting the labels with specific data type\n",
        "Y_test = np.array(Y_test.T)\n",
        "print(\"Y_test \",Y_test.shape)"
      ],
      "metadata": {
        "id": "2bnn6I0Dwmdq",
        "colab": {
          "base_uri": "https://localhost:8080/"
        },
        "outputId": "588270f1-c8d0-4777-b825-d0c484030e51"
      },
      "execution_count": null,
      "outputs": [
        {
          "output_type": "stream",
          "name": "stdout",
          "text": [
            "Y_test  (10, 10000)\n"
          ]
        }
      ]
    },
    {
      "cell_type": "markdown",
      "source": [
        "Input data shapes"
      ],
      "metadata": {
        "id": "8HGwIC-EwxbJ"
      }
    },
    {
      "cell_type": "code",
      "source": [
        "print(\"X train\",X_train.shape)\n",
        "print(\"Y_train \",Y_train.shape)\n",
        "print(\"X test\",X_test.shape)\n",
        "print(\"Y_test \",Y_test.shape)\n"
      ],
      "metadata": {
        "id": "Xa5ipAanwrjR",
        "colab": {
          "base_uri": "https://localhost:8080/"
        },
        "outputId": "650f7bad-e19c-4704-f84a-5ce190413612"
      },
      "execution_count": null,
      "outputs": [
        {
          "output_type": "stream",
          "name": "stdout",
          "text": [
            "X train (784, 60000)\n",
            "Y_train  (10, 60000)\n",
            "X test (784, 10000)\n",
            "Y_test  (10, 10000)\n"
          ]
        }
      ]
    },
    {
      "cell_type": "markdown",
      "source": [
        "Image Display for training data set"
      ],
      "metadata": {
        "id": "lX7WvvCUw8Pa"
      }
    },
    {
      "cell_type": "code",
      "source": [
        "# Displaying the image from the training set data\n",
        "index = random.randrange(0, X_train.shape[1])\n",
        "plt.imshow(X_train[:, index].reshape(28, 28), cmap = 'gray')\n",
        "plt.show()\n",
        "print(Y_train[:,index])"
      ],
      "metadata": {
        "id": "PzR7O4J1w4Ca",
        "colab": {
          "base_uri": "https://localhost:8080/",
          "height": 282
        },
        "outputId": "b8e602c3-4e39-4455-a1e6-8641968c6495"
      },
      "execution_count": null,
      "outputs": [
        {
          "output_type": "display_data",
          "data": {
            "image/png": "[encoded data removed]",
            "text/plain": [
              "<Figure size 432x288 with 1 Axes>"
            ]
          },
          "metadata": {
            "needs_background": "light"
          }
        },
        {
          "output_type": "stream",
          "name": "stdout",
          "text": [
            "[0 1 0 0 0 0 0 0 0 0]\n"
          ]
        }
      ]
    },
    {
      "cell_type": "markdown",
      "source": [
        "# Activation function \n",
        "* tanh\n",
        "* ReLU"
      ],
      "metadata": {
        "id": "S5QTnLwlxOWb"
      }
    },
    {
      "cell_type": "code",
      "source": [
        "def tanh(x):\n",
        "    return np.tanh(x)\n",
        "\n",
        "def relu(x):\n",
        "    return np.maximum(x, 0)\n"
      ],
      "metadata": {
        "id": "25rASnTxxCeO"
      },
      "execution_count": null,
      "outputs": []
    },
    {
      "cell_type": "markdown",
      "source": [
        "* SoftMax function \n"
      ],
      "metadata": {
        "id": "CiK3K1Ufxeij"
      }
    },
    {
      "cell_type": "code",
      "source": [
        "def softmax(x):\n",
        "    expX = np.exp(x)\n",
        "    return expX/np.sum(expX, axis = 0)"
      ],
      "metadata": {
        "id": "x12eTQU7xVMc"
      },
      "execution_count": null,
      "outputs": []
    },
    {
      "cell_type": "markdown",
      "source": [
        "Derivative of Activation function \n"
      ],
      "metadata": {
        "id": "4LONopabxo2Y"
      }
    },
    {
      "cell_type": "code",
      "source": [
        "def derivative_tanh(x):\n",
        "    return (1 - np.power(np.tanh(x), 2))\n",
        "\n",
        "def derivative_relu(x):\n",
        "    return np.array(x > 0, dtype = np.float32)"
      ],
      "metadata": {
        "id": "o-7s86xOxlZ4"
      },
      "execution_count": null,
      "outputs": []
    },
    {
      "cell_type": "markdown",
      "source": [
        "# Initializing the parameter"
      ],
      "metadata": {
        "id": "VGP9X9DpztO_"
      }
    },
    {
      "cell_type": "code",
      "source": [
        "def initialize_parameters(n_x, n_h_1, n_h_2, n_h_3, n_y):\n",
        "  print(\"input layer neurons: \", n_x)\n",
        "  print(\"first hidden layer neurons: \", n_h_1)\n",
        "  print(\"second hidden layer neurons: \", n_h_2)\n",
        "  print(\"third hidden layer neurons: \", n_h_3)\n",
        "  print(\"last output layer neurons: \", n_y)\n",
        "  # n_x is the neuron in the input Layer which is 784\n",
        "  # n_h is the  neuron in the hidden Layer\n",
        "  # n_y is the neuron in the Output Layer \n",
        "  # weights for 1st layer / for input layer \n",
        "  weight0 = np.random.randn(n_h_1, n_x)*0.1\n",
        "  # array of n_h X n_x \n",
        "  # we have multiplied with the 0.01 so that we can reduce the value \n",
        "  # bias for 1st layer\n",
        "  bias0 = np.zeros((n_h_1, 1))\n",
        "    \n",
        "  # same for hidden layer  \n",
        "  weight1 = np.random.randn(n_h_2, n_h_1)*0.1\n",
        "  bias1 = np.zeros((n_h_2, 1))\n",
        "  \n",
        "  # same for hidden layer  \n",
        "  weight2 = np.random.randn(n_h_3, n_h_2)*0.1\n",
        "  bias2 = np.zeros((n_h_3, 1))\n",
        "  \n",
        "  # same for hidden layer  \n",
        "  weight3 = np.random.randn(n_y, n_h_3)*0.1\n",
        "  bias3 = np.zeros((n_y, 1))\n",
        "  \n",
        "  \n",
        "  WB_parameters = {\n",
        "        \"weight0\" : weight0,\n",
        "        \"bias0\" : bias0,\n",
        "        \"weight1\" : weight1,\n",
        "        \"bias1\" : bias1,\n",
        "        \"weight2\" : weight2,\n",
        "        \"bias2\" : bias2,\n",
        "        \"weight3\" : weight3,\n",
        "        \"bias3\" : bias3\n",
        "    }\n",
        "  # here we store all the ouput parameter in a numpy dictionary   \n",
        "    \n",
        "  return WB_parameters"
      ],
      "metadata": {
        "id": "IjBYAknTxuLY"
      },
      "execution_count": null,
      "outputs": []
    },
    {
      "cell_type": "code",
      "source": [
        ""
      ],
      "metadata": {
        "id": "2sFlw060uTNE"
      },
      "execution_count": null,
      "outputs": []
    },
    {
      "cell_type": "markdown",
      "source": [
        "# Forward Propagation "
      ],
      "metadata": {
        "id": "uV-HNyaR0u7D"
      }
    },
    {
      "cell_type": "code",
      "source": [
        "def forward_propagation(x, WB_parameters):\n",
        "    \n",
        "    weight0 = WB_parameters['weight0']\n",
        "    bias0 = WB_parameters['bias0']\n",
        "    weight1 = WB_parameters['weight1']\n",
        "    bias1 = WB_parameters['bias1']\n",
        "    weight2 = WB_parameters['weight2']\n",
        "    bias2 = WB_parameters['bias2']\n",
        "    weight3 = WB_parameters['weight3']\n",
        "    bias3 = WB_parameters['bias3']\n",
        "    \n",
        "    # preactivation function\n",
        "    a0 = np.dot(weight0, x) + bias0\n",
        "    # activation function\n",
        "    h1 = tanh(a0)\n",
        "    \n",
        "    # preactivation function\n",
        "    a1 = np.dot(weight1, h1) + bias1\n",
        "    # activation function\n",
        "    h2 = tanh(a1)\n",
        "    \n",
        "    # preactivation function\n",
        "    a2 = np.dot(weight2, h2) + bias2\n",
        "    # activation function\n",
        "    h3 = tanh(a2)\n",
        "    \n",
        "    # preactivation function\n",
        "    a3 = np.dot(weight3, h3) + bias3\n",
        "    # activation function\n",
        "    h4 = softmax(a3)\n",
        "    \n",
        "    \n",
        "    # forward parameter dictionary\n",
        "    forward_parameters = {\n",
        "        \"a0\" : a0,\n",
        "        \"h1\" : h1,\n",
        "        \"a1\" : a1,\n",
        "        \"h2\" : h2,\n",
        "        \"a2\" : a2,\n",
        "        \"h3\" : h3,\n",
        "        \"a3\" : a3,\n",
        "        \"h4\" : h4\n",
        "    }\n",
        "    \n",
        "    return forward_parameters"
      ],
      "metadata": {
        "id": "_EBDTmil0aXg"
      },
      "execution_count": null,
      "outputs": []
    },
    {
      "cell_type": "markdown",
      "source": [
        "# Cost Function "
      ],
      "metadata": {
        "id": "1BpF4EPL2zfa"
      }
    },
    {
      "cell_type": "code",
      "source": [
        "def cost_function(weight3 , weight2 , weight1, weight0, h4, y):\n",
        "    m = y.shape[1]\n",
        "    lambda_value = 0\n",
        "    # regularization term\n",
        "    ridge_reg_term = (lambda_value / 2 * m) *(np.sum(np.square(weight3)) + np.sum(np.square(weight2)) + np.sum(np.square(weight1)) +np.sum(np.square(weight0)) )\n",
        "    cost = -(1/m)*np.sum(y*np.log(h4))\n",
        "    cost_f = cost + ridge_reg_term \n",
        "    return cost_f"
      ],
      "metadata": {
        "id": "9bfSk1o12ffe"
      },
      "execution_count": null,
      "outputs": []
    },
    {
      "cell_type": "markdown",
      "source": [
        "# Backpropagation for gradient"
      ],
      "metadata": {
        "id": "7w03JeIL3HZ0"
      }
    },
    {
      "cell_type": "code",
      "source": [
        "def backward_prop(x, y, WB_parameters, forward_parameters):\n",
        "    \n",
        "    # extracting our parameter from initial weight and bias \n",
        "    m = y.shape[1]\n",
        "    lambda_value = 0\n",
        "\n",
        "    weight0 = WB_parameters['weight0']\n",
        "    bias0 = WB_parameters['bias0']\n",
        "    weight1 = WB_parameters['weight1']\n",
        "    bias1 = WB_parameters['bias1']\n",
        "    weight2 = WB_parameters['weight2']\n",
        "    bias2 = WB_parameters['bias2']\n",
        "    weight3 = WB_parameters['weight3']\n",
        "    bias3 = WB_parameters['bias3']\n",
        "    \n",
        "    \n",
        "    \n",
        "    h1 = forward_parameters['h1']\n",
        "    h2 = forward_parameters['h2']\n",
        "    h3 = forward_parameters['h3']\n",
        "    h4 = forward_parameters['h4']\n",
        "    \n",
        "    \n",
        "    m = x.shape[1]\n",
        "    \n",
        "    \n",
        "\n",
        "    # gradient 1\n",
        "    da3 = (h4 - y)\n",
        "    dw3 = (1/m)*np.dot(da3, h3.T) + (lambda_value * weight3 /m) \n",
        "    db3 = (1/m)*np.sum(da3, axis = 1, keepdims = True)\n",
        "    \n",
        "    # gradient 2\n",
        "    da2 = (1/m)*np.dot(weight3.T, da3)*derivative_tanh(h3)\n",
        "    dw2 = (1/m)*np.dot(da2, h2.T) + (lambda_value * weight2 / m) \n",
        "    db2 = (1/m)*np.sum(da2, axis = 1, keepdims = True)\n",
        "    \n",
        "    # gradient 3\n",
        "    da1 = (1/m)*np.dot(weight2.T, da2)*derivative_tanh(h2)\n",
        "    dw1 = (1/m)*np.dot(da1, h1.T) + (lambda_value * weight1 / m) \n",
        "    db1 = (1/m)*np.sum(da1, axis = 1, keepdims = True)\n",
        "    \n",
        "    # gradient 4\n",
        "    da0 = (1/m)*np.dot(weight1.T, da1)*derivative_tanh(h1)\n",
        "    dw0 = (1/m)*np.dot(da0, x.T) + (lambda_value * weight0 / m) \n",
        "    db0 = (1/m)*np.sum(da0, axis = 1, keepdims = True)\n",
        "    \n",
        "\n",
        "    gradients_parameters = {\n",
        "        \"dw0\" : dw0,\n",
        "        \"db0\" : db0,\n",
        "        \"dw1\" : dw1,\n",
        "        \"db1\" : db1,\n",
        "        \"dw2\" : dw2,\n",
        "        \"db2\" : db2,\n",
        "        \"dw3\" : dw3,\n",
        "        \"db3\" : db3\n",
        "    }\n",
        "    \n",
        "    return gradients_parameters"
      ],
      "metadata": {
        "id": "t0fgG1D63Lw_"
      },
      "execution_count": null,
      "outputs": []
    },
    {
      "cell_type": "markdown",
      "source": [
        "# Update Parameter\n"
      ],
      "metadata": {
        "id": "47pH3VeS5Wvy"
      }
    },
    {
      "cell_type": "code",
      "source": [
        "def update_parameters(WB_parameters, gradients_parameters, learning_rate):\n",
        "    \n",
        "    weight0 = WB_parameters['weight0']\n",
        "    bias0 = WB_parameters['bias0']\n",
        "    weight1 = WB_parameters['weight1']\n",
        "    bias1 = WB_parameters['bias1']\n",
        "    weight2 = WB_parameters['weight2']\n",
        "    bias2 = WB_parameters['bias2']\n",
        "    weight3 = WB_parameters['weight3']\n",
        "    bias3 = WB_parameters['bias3']\n",
        "    \n",
        "    dw0 = gradients_parameters['dw0']\n",
        "    db0 = gradients_parameters['db0']\n",
        "    dw1 = gradients_parameters['dw1']\n",
        "    db1 = gradients_parameters['db1']\n",
        "    dw2 = gradients_parameters['dw2']\n",
        "    db2 = gradients_parameters['db2']\n",
        "    dw3 = gradients_parameters['dw3']\n",
        "    db3 = gradients_parameters['db3']\n",
        "    \n",
        "    weight0 = weight0 - learning_rate*dw0\n",
        "    bias0 = bias0 - learning_rate*db0\n",
        "    weight1 = weight1 - learning_rate*dw1\n",
        "    bias1 = bias1 - learning_rate*db1\n",
        "    weight2 = weight2 - learning_rate*dw2\n",
        "    bias2 = bias2 - learning_rate*db2\n",
        "    weight3 = weight3 - learning_rate*dw3\n",
        "    bias3 = bias3 - learning_rate*db3\n",
        "    \n",
        "    parameters_update = {\n",
        "        \"weight0\" : weight0,\n",
        "        \"bias0\" : bias0,\n",
        "        \"weight1\" : weight1,\n",
        "        \"bias1\" : bias1,\n",
        "        \"weight2\" : weight2,\n",
        "        \"bias2\" : bias2,\n",
        "        \"weight3\" : weight3,\n",
        "        \"bias3\" : bias3\n",
        "\n",
        "    }\n",
        "  \n",
        "    return parameters_update"
      ],
      "metadata": {
        "id": "u2We9Lqw5TGh"
      },
      "execution_count": null,
      "outputs": []
    },
    {
      "cell_type": "markdown",
      "source": [
        "# Model "
      ],
      "metadata": {
        "id": "FS3Oe-YL6MeZ"
      }
    },
    {
      "cell_type": "code",
      "source": [
        "def model(x, y, n_h_1, n_h_2, n_h_3, learning_rate, iterations):\n",
        "    \n",
        "    n_x = x.shape[0] # input data neurons - any number \n",
        "    n_y = y.shape[0] # output data neurons - 10 \n",
        "    \n",
        "    cost_list = []\n",
        "    \n",
        "    WB_parameters = initialize_parameters(n_x, n_h_1, n_h_2, n_h_3, n_y) # 784, 500, 300, 100, 10\n",
        "    \n",
        "    for i in range(iterations):\n",
        "        \n",
        "        forward_parameters = forward_propagation(x, WB_parameters)\n",
        "        # print(\"done f\")\n",
        "        \n",
        "        cost = cost_function(WB_parameters['weight3'], WB_parameters['weight2'], WB_parameters['weight1'], WB_parameters['weight0'], forward_parameters['h4'], y)\n",
        "        # print(\"done c\")\n",
        "        \n",
        "        gradients_parameters = backward_prop(x, y, WB_parameters, forward_parameters)\n",
        "        # print(\"done g\")\n",
        "        \n",
        "        WB_parameters = update_parameters(WB_parameters, gradients_parameters, learning_rate)\n",
        "        # print(\"done u\")\n",
        "        \n",
        "        cost_list.append(cost)\n",
        "        \n",
        "        print(\"Cost after\", i, \"iterations is :\", cost)\n",
        "        \n",
        "    return WB_parameters, cost_list"
      ],
      "metadata": {
        "id": "uTljLs9K6Gw-"
      },
      "execution_count": null,
      "outputs": []
    },
    {
      "cell_type": "markdown",
      "source": [
        "# Running the model"
      ],
      "metadata": {
        "id": "qDVmxYXy7QKh"
      }
    },
    {
      "cell_type": "markdown",
      "source": [
        " model parameter "
      ],
      "metadata": {
        "id": "hccJZ0MuZipi"
      }
    },
    {
      "cell_type": "code",
      "source": [
        "print(\"Activation function : tanh\")\n",
        "iterations = 200\n",
        "lambda_value = 0\n",
        "n_h_1 = 64\n",
        "n_h_2 = 64\n",
        "n_h_3 = 64\n",
        "learning_rate = 0.01\n",
        "print(\"epochs\", iterations) \n",
        "print(\"Learning rate\", learning_rate)\n",
        "print(\"lambda value\", lambda_value)\n",
        "print(\"X train\",X_train.shape)\n",
        "print(\"Y_train \",Y_train.shape)\n",
        "print(\"X test\",X_test.shape)\n",
        "print(\"Y_test \",Y_test.shape)\n",
        "Parameters, Cost_list = model(X_train, Y_train, n_h_1 = n_h_1, n_h_2 = n_h_2, n_h_3 = n_h_3, learning_rate = learning_rate, iterations = iterations)"
      ],
      "metadata": {
        "colab": {
          "base_uri": "https://localhost:8080/"
        },
        "id": "AZB_gpxA7urr",
        "outputId": "d0f6c161-2d41-4fe0-8b30-b31947d5c16e"
      },
      "execution_count": null,
      "outputs": [
        {
          "output_type": "stream",
          "name": "stdout",
          "text": [
            "Activation function : tanh\n",
            "epochs 200\n",
            "Learning rate 0.01\n",
            "lambda value 0\n",
            "X train (784, 60000)\n",
            "Y_train  (10, 60000)\n",
            "X test (784, 10000)\n",
            "Y_test  (10, 10000)\n",
            "input layer neurons:  784\n",
            "first hidden layer neurons:  64\n",
            "second hidden layer neurons:  64\n",
            "third hidden layer neurons:  64\n",
            "last output layer neurons:  10\n",
            "Cost after 0 iterations is : 2.332335803936916\n",
            "Cost after 1 iterations is : 2.3314042696082753\n",
            "Cost after 2 iterations is : 2.3304745407504943\n",
            "Cost after 3 iterations is : 2.329546605445748\n",
            "Cost after 4 iterations is : 2.3286204518903237\n",
            "Cost after 5 iterations is : 2.3276960683934127\n",
            "Cost after 6 iterations is : 2.3267734433758878\n",
            "Cost after 7 iterations is : 2.3258525653691273\n",
            "Cost after 8 iterations is : 2.3249334230138268\n",
            "Cost after 9 iterations is : 2.3240160050588545\n",
            "Cost after 10 iterations is : 2.3231003003600845\n",
            "Cost after 11 iterations is : 2.3221862978792727\n",
            "Cost after 12 iterations is : 2.3212739866829377\n",
            "Cost after 13 iterations is : 2.320363355941255\n",
            "Cost after 14 iterations is : 2.3194543949269604\n",
            "Cost after 15 iterations is : 2.31854709301427\n",
            "Cost after 16 iterations is : 2.317641439677823\n",
            "Cost after 17 iterations is : 2.3167374244916172\n",
            "Cost after 18 iterations is : 2.3158350371279695\n",
            "Cost after 19 iterations is : 2.3149342673564965\n",
            "Cost after 20 iterations is : 2.314035105043088\n",
            "Cost after 21 iterations is : 2.3131375401489036\n",
            "Cost after 22 iterations is : 2.3122415627293886\n",
            "Cost after 23 iterations is : 2.3113471629332865\n",
            "Cost after 24 iterations is : 2.3104543310016696\n",
            "Cost after 25 iterations is : 2.309563057266987\n",
            "Cost after 26 iterations is : 2.3086733321521127\n",
            "Cost after 27 iterations is : 2.3077851461694157\n",
            "Cost after 28 iterations is : 2.3068984899198313\n",
            "Cost after 29 iterations is : 2.30601335409195\n",
            "Cost after 30 iterations is : 2.3051297294611155\n",
            "Cost after 31 iterations is : 2.3042476068885347\n",
            "Cost after 32 iterations is : 2.3033669773203895\n",
            "Cost after 33 iterations is : 2.302487831786971\n",
            "Cost after 34 iterations is : 2.3016101614018165\n",
            "Cost after 35 iterations is : 2.3007339573608556\n",
            "Cost after 36 iterations is : 2.299859210941577\n",
            "Cost after 37 iterations is : 2.2989859135021833\n",
            "Cost after 38 iterations is : 2.298114056480781\n",
            "Cost after 39 iterations is : 2.297243631394559\n",
            "Cost after 40 iterations is : 2.296374629838993\n",
            "Cost after 41 iterations is : 2.2955070434870426\n",
            "Cost after 42 iterations is : 2.2946408640883713\n",
            "Cost after 43 iterations is : 2.293776083468568\n",
            "Cost after 44 iterations is : 2.292912693528382\n",
            "Cost after 45 iterations is : 2.292050686242957\n",
            "Cost after 46 iterations is : 2.291190053661089\n",
            "Cost after 47 iterations is : 2.2903307879044816\n",
            "Cost after 48 iterations is : 2.2894728811670078\n",
            "Cost after 49 iterations is : 2.2886163257139924\n",
            "Cost after 50 iterations is : 2.2877611138814866\n",
            "Cost after 51 iterations is : 2.2869072380755653\n",
            "Cost after 52 iterations is : 2.286054690771621\n",
            "Cost after 53 iterations is : 2.2852034645136747\n",
            "Cost after 54 iterations is : 2.2843535519136853\n",
            "Cost after 55 iterations is : 2.2835049456508765\n",
            "Cost after 56 iterations is : 2.2826576384710577\n",
            "Cost after 57 iterations is : 2.2818116231859755\n",
            "Cost after 58 iterations is : 2.2809668926726383\n",
            "Cost after 59 iterations is : 2.280123439872684\n",
            "Cost after 60 iterations is : 2.27928125779173\n",
            "Cost after 61 iterations is : 2.27844033949874\n",
            "Cost after 62 iterations is : 2.277600678125394\n",
            "Cost after 63 iterations is : 2.276762266865476\n",
            "Cost after 64 iterations is : 2.275925098974251\n",
            "Cost after 65 iterations is : 2.275089167767857\n",
            "Cost after 66 iterations is : 2.2742544666227134\n",
            "Cost after 67 iterations is : 2.2734209889749164\n",
            "Cost after 68 iterations is : 2.272588728319659\n",
            "Cost after 69 iterations is : 2.271757678210646\n",
            "Cost after 70 iterations is : 2.2709278322595146\n",
            "Cost after 71 iterations is : 2.2700991841352733\n",
            "Cost after 72 iterations is : 2.269271727563734\n",
            "Cost after 73 iterations is : 2.268445456326957\n",
            "Cost after 74 iterations is : 2.267620364262698\n",
            "Cost after 75 iterations is : 2.2667964452638647\n",
            "Cost after 76 iterations is : 2.2659736932779775\n",
            "Cost after 77 iterations is : 2.265152102306634\n",
            "Cost after 78 iterations is : 2.264331666404982\n",
            "Cost after 79 iterations is : 2.263512379681202\n",
            "Cost after 80 iterations is : 2.2626942362959808\n",
            "Cost after 81 iterations is : 2.261877230462006\n",
            "Cost after 82 iterations is : 2.261061356443467\n",
            "Cost after 83 iterations is : 2.2602466085555384\n",
            "Cost after 84 iterations is : 2.259432981163896\n",
            "Cost after 85 iterations is : 2.2586204686842253\n",
            "Cost after 86 iterations is : 2.257809065581735\n",
            "Cost after 87 iterations is : 2.2569987663706774\n",
            "Cost after 88 iterations is : 2.256189565613873\n",
            "Cost after 89 iterations is : 2.2553814579222404\n",
            "Cost after 90 iterations is : 2.2545744379543358\n",
            "Cost after 91 iterations is : 2.253768500415883\n",
            "Cost after 92 iterations is : 2.2529636400593294\n",
            "Cost after 93 iterations is : 2.2521598516833876\n",
            "Cost after 94 iterations is : 2.251357130132591\n",
            "Cost after 95 iterations is : 2.2505554702968547\n",
            "Cost after 96 iterations is : 2.249754867111037\n",
            "Cost after 97 iterations is : 2.248955315554506\n",
            "Cost after 98 iterations is : 2.2481568106507117\n",
            "Cost after 99 iterations is : 2.2473593474667677\n",
            "Cost after 100 iterations is : 2.2465629211130245\n",
            "Cost after 101 iterations is : 2.245767526742657\n",
            "Cost after 102 iterations is : 2.244973159551259\n",
            "Cost after 103 iterations is : 2.244179814776432\n",
            "Cost after 104 iterations is : 2.2433874876973796\n",
            "Cost after 105 iterations is : 2.242596173634518\n",
            "Cost after 106 iterations is : 2.2418058679490738\n",
            "Cost after 107 iterations is : 2.241016566042701\n",
            "Cost after 108 iterations is : 2.2402282633570865\n",
            "Cost after 109 iterations is : 2.2394409553735763\n",
            "Cost after 110 iterations is : 2.238654637612793\n",
            "Cost after 111 iterations is : 2.2378693056342587\n",
            "Cost after 112 iterations is : 2.2370849550360306\n",
            "Cost after 113 iterations is : 2.2363015814543297\n",
            "Cost after 114 iterations is : 2.2355191805631747\n",
            "Cost after 115 iterations is : 2.2347377480740303\n",
            "Cost after 116 iterations is : 2.2339572797354452\n",
            "Cost after 117 iterations is : 2.2331777713326995\n",
            "Cost after 118 iterations is : 2.23239921868746\n",
            "Cost after 119 iterations is : 2.2316216176574284\n",
            "Cost after 120 iterations is : 2.2308449641360073\n",
            "Cost after 121 iterations is : 2.2300692540519536\n",
            "Cost after 122 iterations is : 2.229294483369046\n",
            "Cost after 123 iterations is : 2.228520648085759\n",
            "Cost after 124 iterations is : 2.227747744234923\n",
            "Cost after 125 iterations is : 2.2269757678834097\n",
            "Cost after 126 iterations is : 2.2262047151318023\n",
            "Cost after 127 iterations is : 2.225434582114083\n",
            "Cost after 128 iterations is : 2.2246653649973096\n",
            "Cost after 129 iterations is : 2.2238970599813097\n",
            "Cost after 130 iterations is : 2.22312966329837\n",
            "Cost after 131 iterations is : 2.2223631712129253\n",
            "Cost after 132 iterations is : 2.2215975800212586\n",
            "Cost after 133 iterations is : 2.2208328860512037\n",
            "Cost after 134 iterations is : 2.220069085661839\n",
            "Cost after 135 iterations is : 2.2193061752432013\n",
            "Cost after 136 iterations is : 2.218544151215992\n",
            "Cost after 137 iterations is : 2.217783010031281\n",
            "Cost after 138 iterations is : 2.2170227481702325\n",
            "Cost after 139 iterations is : 2.216263362143814\n",
            "Cost after 140 iterations is : 2.2155048484925177\n",
            "Cost after 141 iterations is : 2.2147472037860827\n",
            "Cost after 142 iterations is : 2.2139904246232187\n",
            "Cost after 143 iterations is : 2.213234507631341\n",
            "Cost after 144 iterations is : 2.2124794494662865\n",
            "Cost after 145 iterations is : 2.211725246812062\n",
            "Cost after 146 iterations is : 2.210971896380567\n",
            "Cost after 147 iterations is : 2.210219394911343\n",
            "Cost after 148 iterations is : 2.209467739171304\n",
            "Cost after 149 iterations is : 2.2087169259544894\n",
            "Cost after 150 iterations is : 2.207966952081801\n",
            "Cost after 151 iterations is : 2.2072178144007553\n",
            "Cost after 152 iterations is : 2.2064695097852343\n",
            "Cost after 153 iterations is : 2.2057220351352376\n",
            "Cost after 154 iterations is : 2.2049753873766376\n",
            "Cost after 155 iterations is : 2.2042295634609377\n",
            "Cost after 156 iterations is : 2.2034845603650317\n",
            "Cost after 157 iterations is : 2.2027403750909653\n",
            "Cost after 158 iterations is : 2.201997004665705\n",
            "Cost after 159 iterations is : 2.2012544461409003\n",
            "Cost after 160 iterations is : 2.200512696592652\n",
            "Cost after 161 iterations is : 2.199771753121291\n",
            "Cost after 162 iterations is : 2.1990316128511442\n",
            "Cost after 163 iterations is : 2.1982922729303103\n",
            "Cost after 164 iterations is : 2.1975537305304464\n",
            "Cost after 165 iterations is : 2.1968159828465366\n",
            "Cost after 166 iterations is : 2.1960790270966815\n",
            "Cost after 167 iterations is : 2.1953428605218797\n",
            "Cost after 168 iterations is : 2.1946074803858147\n",
            "Cost after 169 iterations is : 2.1938728839746435\n",
            "Cost after 170 iterations is : 2.193139068596786\n",
            "Cost after 171 iterations is : 2.192406031582717\n",
            "Cost after 172 iterations is : 2.1916737702847633\n",
            "Cost after 173 iterations is : 2.190942282076894\n",
            "Cost after 174 iterations is : 2.1902115643545272\n",
            "Cost after 175 iterations is : 2.1894816145343245\n",
            "Cost after 176 iterations is : 2.1887524300539893\n",
            "Cost after 177 iterations is : 2.18802400837208\n",
            "Cost after 178 iterations is : 2.1872963469678104\n",
            "Cost after 179 iterations is : 2.1865694433408556\n",
            "Cost after 180 iterations is : 2.185843295011167\n",
            "Cost after 181 iterations is : 2.185117899518776\n",
            "Cost after 182 iterations is : 2.1843932544236173\n",
            "Cost after 183 iterations is : 2.1836693573053285\n",
            "Cost after 184 iterations is : 2.182946205763084\n",
            "Cost after 185 iterations is : 2.1822237974154017\n",
            "Cost after 186 iterations is : 2.181502129899965\n",
            "Cost after 187 iterations is : 2.1807812008734477\n",
            "Cost after 188 iterations is : 2.180061008011334\n",
            "Cost after 189 iterations is : 2.179341549007743\n",
            "Cost after 190 iterations is : 2.1786228215752637\n",
            "Cost after 191 iterations is : 2.177904823444768\n",
            "Cost after 192 iterations is : 2.177187552365255\n",
            "Cost after 193 iterations is : 2.176471006103675\n",
            "Cost after 194 iterations is : 2.175755182444766\n",
            "Cost after 195 iterations is : 2.175040079190884\n",
            "Cost after 196 iterations is : 2.1743256941618445\n",
            "Cost after 197 iterations is : 2.173612025194755\n",
            "Cost after 198 iterations is : 2.1728990701438615\n",
            "Cost after 199 iterations is : 2.1721868268803806\n"
          ]
        }
      ]
    },
    {
      "cell_type": "code",
      "source": [
        "t = np.arange(0, iterations)\n",
        "plt.plot(t, Cost_list)\n",
        "plt.title('Cost Vs iteration plot')\n",
        "plt.xlabel(\"Iteration\")\n",
        "plt.ylabel(\"Cost\")\n",
        "plt.show()"
      ],
      "metadata": {
        "id": "Rp5U0rK9_fgs",
        "colab": {
          "base_uri": "https://localhost:8080/",
          "height": 295
        },
        "outputId": "a0d2cf44-c233-4e0f-c8bf-a4836fc1ad8b"
      },
      "execution_count": null,
      "outputs": [
        {
          "output_type": "display_data",
          "data": {
            "image/png": "[encoded data removed]",
            "text/plain": [
              "<Figure size 432x288 with 1 Axes>"
            ]
          },
          "metadata": {
            "needs_background": "light"
          }
        }
      ]
    },
    {
      "cell_type": "code",
      "source": [
        "def accuracy(test_input, labels, parameters):\n",
        "    forward_parameters = forward_propagation(test_input, parameters)\n",
        "    h_out = forward_parameters['h4']   # containes propabilities with shape(10, 1)\n",
        "    \n",
        "    h_out = np.argmax(h_out, 0)  # 0 represents row wise \n",
        "    \n",
        "    labels = np.argmax(labels, 0)\n",
        "    \n",
        "    acc = np.mean(h_out == labels)*100\n",
        "    \n",
        "    return acc"
      ],
      "metadata": {
        "id": "CEqOgN94F1M1"
      },
      "execution_count": null,
      "outputs": []
    },
    {
      "cell_type": "code",
      "source": [
        "print(\"Accuracy of Train Dataset\", accuracy(X_train, Y_train, Parameters), \"%\")\n",
        "print(\"Accuracy of Test Dataset\", round(accuracy(X_test, Y_test, Parameters), 2), \"%\")"
      ],
      "metadata": {
        "colab": {
          "base_uri": "https://localhost:8080/"
        },
        "id": "e-w0NAyJF4jC",
        "outputId": "467e8f3c-fbf9-42e2-d40f-2bfce6ae2ab7"
      },
      "execution_count": null,
      "outputs": [
        {
          "output_type": "stream",
          "name": "stdout",
          "text": [
            "Accuracy of Train Dataset 32.625 %\n",
            "Accuracy of Test Dataset 31.96 %\n"
          ]
        }
      ]
    },
    {
      "cell_type": "code",
      "source": [
        "idx = int(random.randrange(0,X_test.shape[1]))\n",
        "plt.imshow(X_test[:, idx].reshape((28,28)),cmap='gray')\n",
        "plt.show()\n",
        "\n",
        "forward_parameters = forward_propagation(X_test[:, idx].reshape(X_test[:, idx].shape[0], 1), Parameters)\n",
        "a_pred = forward_parameters['h4']  \n",
        "a_pred = np.argmax(a_pred, 0)\n",
        "\n",
        "print(\"Our model says it is :\", a_pred[0])"
      ],
      "metadata": {
        "colab": {
          "base_uri": "https://localhost:8080/",
          "height": 282
        },
        "id": "1IO2q01bGB4C",
        "outputId": "2d08397c-96ba-42db-f3c3-2acaeafbbb0b"
      },
      "execution_count": null,
      "outputs": [
        {
          "output_type": "display_data",
          "data": {
            "image/png": "[encoded data removed]",
            "text/plain": [
              "<Figure size 432x288 with 1 Axes>"
            ]
          },
          "metadata": {
            "needs_background": "light"
          }
        },
        {
          "output_type": "stream",
          "name": "stdout",
          "text": [
            "Our model says it is : 4\n"
          ]
        }
      ]
    },
    {
      "cell_type": "markdown",
      "source": [
        "![image.png](data:image/png;base64,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)"
      ],
      "metadata": {
        "id": "jo-mEW-qX5hT"
      }
    },
    {
      "cell_type": "code",
      "source": [
        ""
      ],
      "metadata": {
        "id": "-kge6-S0GFl8"
      },
      "execution_count": null,
      "outputs": []
    }
  ]
}